{
 "cells": [
  {
   "cell_type": "markdown",
   "metadata": {},
   "source": [
    "# Efficient approximation of Brownian Lévy area"
   ]
  },
  {
   "cell_type": "markdown",
   "metadata": {},
   "source": [
    "We shall present a new (weak) approximation for the Lévy area between two independent Brownian motions $W^{(1)}$ and $W^{(2)}$,\n",
    "\n",
    "\\begin{align}\n",
    "A_{s,t} := \\frac{1}{2}\\left(\\int_s^t W_{s,u}^{(1)} dW_u^{(2)} - \\int_s^t W_{s,u}^{(2)} dW_u^{(1)}\\right).\n",
    "\\end{align}"
   ]
  },
  {
   "cell_type": "markdown",
   "metadata": {},
   "source": [
    "It was shown in [1] that by replacing Lévy area increments with Gaussian approximations that have the same covariance structure, one can develop high order (in a 2-Wasserstein sense) numerical methods for SDEs driven by multidimensional Brownian motion.\n",
    "\n",
    "Inspired by this approach, we will consider an approximation that matches additional (conditional) moments of two-dimensional Lévy area."
   ]
  },
  {
   "cell_type": "markdown",
   "metadata": {},
   "source": [
    "Firstly, we define the space-time Lévy area of a Brownian motion $W$ over the interval $[s,t]$ as\n",
    "\n",
    "\\begin{align}\n",
    "H_{s,t} := \\frac{1}{h}\\int_s^t W_{s,u}-\\frac{u-s}{h}W_{s,t}\\,du,\n",
    "\\end{align}\n",
    "\n",
    "where $h := t - s$. It is straightforward to show that $H_{s,t}$ has a $\\textit{Normal}\\big(0,\\frac{1}{12}h\\big)$ distribution and is independent of $W_{s,t}$ (see [2] for a proof)."
   ]
  },
  {
   "cell_type": "markdown",
   "metadata": {},
   "source": [
    "Then the proposed approximation is defined as\n",
    "\n",
    "\\begin{align}\n",
    "\\tilde{A}_{s,t} := H_{s,t}^{(1)}W_{s,t}^{(2)} - W_{s,t}^{(1)}H_{s,t}^{(2)} + \\sigma_{s,t}\\lambda_{s,t},\n",
    "\\end{align}\n",
    "\n",
    "where conditional on $ H_{s,t} $, the constant $\\sigma_{s,t}$ is given\n",
    "\\begin{align}\n",
    "\\sigma_{s,t}^{2} & := \\frac{1}{20}h^{2} + \\frac{1}{5}h\\left(\\left(H_{s,t}^{(1)}\\right)^{2} + \\left(H_{s,t}^{(2)}\\right)^{2}\\right),\n",
    "\\end{align}\n",
    "\n",
    "and the random variable $\\lambda_{s,t}$ is generated entirely from independent random variables as\n",
    "\n",
    "\\begin{align}\n",
    "\\lambda_{s,t} & \\sim \\begin{cases}\n",
    "\\textit{Logistic}\\big(0, \\frac{\\sqrt{3}}{\\pi}\\big) & \\text{with probability}\\,\\,\\,p_{s,t}\\\\[3pt]\n",
    "\\textit{Normal}\\big(0, 1\\big)& \\text{with probability}\\,\\,\\,1-p_{s,t}\\\\\n",
    "\\end{cases},\\\\[3pt]\n",
    "p_{s,t} & := \\frac{1}{\\sigma_{s,t}^{4}}\\left(\\frac{1}{560}h^{4}+\\frac{1}{70}h^{3}\\left(\\left(H_{s,t}^{\\left(1\\right)}\\right)^{2}+\\left(H_{s,t}^{\\left(2\\right)}\\right)^{2}\\right)\\right).\n",
    "\\end{align}"
   ]
  },
  {
   "cell_type": "markdown",
   "metadata": {},
   "source": [
    "The random variable $\\tilde{A}_{s,t}$ is designed so that\n",
    "\n",
    "\\begin{align}\n",
    "\\mathbb{E}\\left[\\left(\\tilde{A}_{s,t}\\right)^{k} \\,\\big|\\,\\, W_{s,t}, H_{s,t}\\right] = \\mathbb{E}\\left[\\left(A_{s,t}\\right)^{k} \\,\\big|\\,\\, W_{s,t}, H_{s,t}\\right],\n",
    "\\end{align}\n",
    "\n",
    "for $k \\leq 5$. (The proof of this will be detailed in my PhD thesis)"
   ]
  },
  {
   "cell_type": "markdown",
   "metadata": {},
   "source": [
    "## Quantifying the approximation error"
   ]
  },
  {
   "cell_type": "markdown",
   "metadata": {},
   "source": [
    "Recall that the 2-Wasserstein distance between two probability measures $\\mu$ and $\\nu$ is given by \n",
    "\n",
    "\\begin{align}\n",
    "W_2(\\mu, \\nu) := \\Big(\\inf_{X\\sim \\mu,\\, Y\\sim \\nu} \\mathbb{E}\\big[\\left|X-Y\\right|^2\\big]\\Big)^\\frac{1}{2},\n",
    "\\end{align}\n",
    "\n",
    "where the infimum is taken over all joint distributions of $X$ and $Y$ with marginals $\\mu$ and $\\nu$ respectively."
   ]
  },
  {
   "cell_type": "markdown",
   "metadata": {},
   "source": [
    "We shall numerically estimate the 2-Wasserstein distance between the (conditional) distributions of $\\tilde{A}_{s,t}$ and $A_{s,t}$.\n",
    "\n",
    "This can be done using the estimator studied in [3] which is computable using the following three steps:\n",
    "\n",
    "$\\textbf{Step 1.}$ Generate $N$ independent samples from each distribution.\n",
    "\n",
    "$\\textbf{Step 2.}$ Couple these samples via their order statistics (i.e. sort both samples and identify the k-th elements in each list).\n",
    "\n",
    "$\\textbf{Step 3.}$ Compute the L2 error using this coupling.\n",
    "\n",
    "The hope is that this estimator will then approach the true 2-Wasserstein error as $N$ increases, i.e.\n",
    "\n",
    "\\begin{align}\n",
    "\\frac{1}{N}\\sum_{i=1}^N |A_{(i)} - \\tilde{A}_{(i)}|^2 \\rightarrow W_2^2(\\mu_{A}, \\tilde{\\mu}_{A})\\hspace{4mm}\\text{almost surely as}\\hspace{2mm}N\\rightarrow \\infty,\n",
    "\\end{align}\n",
    "\n",
    "where $\\mu_{A}$ and $\\tilde{\\mu}_{A}$ denote the distributions of $A_{s,t}$ and $\\tilde{A}_{s,t}$ conditional on $W_{s,t}$."
   ]
  },
  {
   "cell_type": "markdown",
   "metadata": {},
   "source": [
    "## Generating an approximate Lévy area"
   ]
  },
  {
   "cell_type": "code",
   "execution_count": 1,
   "metadata": {},
   "outputs": [],
   "source": [
    "import math\n",
    "import numpy as np\n",
    "\n",
    "# Precomputed constants\n",
    "root_twelveth = math.sqrt(1.0/12.0)\n",
    "root_three_over_pi = math.sqrt(3.0)/math.pi\n",
    "constant1 = 1.0/560.0\n",
    "constant2 = 1.0/70.0\n",
    "\n",
    "# Generates a sample of tilde{A}_{s,t} conditional on the increments of W over [s,t]\n",
    "def weak_levy_area(h, sqrt_h, increment1, increment2):\n",
    "    \n",
    "    area_stddev = root_twelveth*sqrt_h\n",
    "    \n",
    "    # Generate the space-time Levy areas\n",
    "    area1 = np.random.normal(0.0, area_stddev)\n",
    "    area2 = np.random.normal(0.0, area_stddev)\n",
    "    \n",
    "    area_size = (area1 ** 2.0) +  (area2 ** 2.0)\n",
    "    \n",
    "    variance = 0.05 * h + 0.2 * area_size\n",
    "    stddev = math.sqrt(variance*h)\n",
    "    \n",
    "    # Compute the probability p_{s,t}\n",
    "    p = 1.0 - (constant1 * (h ** 2.0) + constant2 * h * area_size)/(variance ** 2.0)\n",
    "        \n",
    "    bridge_area = 0.0\n",
    "\n",
    "    # Generate lambda_{s,t}\n",
    "    if np.random.binomial(1, p) == 1:\n",
    "        bridge_area = np.random.normal(0.0, stddev)\n",
    "    else:\n",
    "        bridge_area = np.random.logistic() * root_three_over_pi * stddev\n",
    "    \n",
    "    return  area1 * increment2 - increment1 * area2 + bridge_area"
   ]
  },
  {
   "cell_type": "markdown",
   "metadata": {},
   "source": [
    "## Discretization of Brownian Lévy area"
   ]
  },
  {
   "cell_type": "markdown",
   "metadata": {},
   "source": [
    "To discretize $A_{s,t}$ conditional on $W_{s,t}$, we will use the following two facts:\n",
    "\n",
    "\n",
    "$\\textbf{Fact 1.}$ By the additivity of integration, we have\n",
    "\\begin{align}\n",
    "A_{s,t} = A_{s,u} + \\frac{1}{2}\\big(W_{s,u}^{(1)}W_{u,t}^{(2)} - W_{s,u}^{(2)}W_{u,t}^{(1)}\\big) + A_{u,t},\n",
    "\\end{align}\n",
    "where $u := s + \\frac{1}{2}h$ is the midpoint of $[s,t]$.\n",
    "\n",
    "$\\textbf{Fact 2.}$ Lévy area is a centered random variable with\n",
    "\\begin{align}\n",
    "\\mathbb{E}\\big[\\,A_{s,t}\\left|\\, W_{s,t}\\right.\\big] = 0.\n",
    "\\end{align}"
   ]
  },
  {
   "cell_type": "code",
   "execution_count": 2,
   "metadata": {},
   "outputs": [],
   "source": [
    "# Precomputed constant\n",
    "root_halve = math.sqrt(0.5)\n",
    "\n",
    "# Generates an approximate sample of A_{s,t} conditional on the increment W_{s,t}.\n",
    "# The step size used to discretize A_{s,t} is h * 2^(-refine_counter).\n",
    "def actual_levy_area(sqrt_h, increment1, increment2, refine_counter):\n",
    "    \n",
    "    #  This is the base case of the recursion\n",
    "    if refine_counter == 0:\n",
    "        return 0.0\n",
    "    \n",
    "    # Generate the Brownian motion at the midpoint of the interval\n",
    "    # conditional on W_{s,t} using the Brownian bridge at u = s + 0.5h.\n",
    "    first_w1 = 0.5 * (increment1 + np.random.normal(0.0, sqrt_h))\n",
    "    first_w2 = 0.5 * (increment2 + np.random.normal(0.0, sqrt_h))\n",
    "    \n",
    "    second_w1 = increment1 - first_w1\n",
    "    second_w2 = increment2 - first_w2\n",
    "    \n",
    "    sqrt_half_h = root_halve * sqrt_h\n",
    "    \n",
    "    # Compute A_{s,t} recursively (using the two half intervals)\n",
    "    return 0.5 * (first_w1 * second_w2 - first_w2 * second_w1) \\\n",
    "            + actual_levy_area(sqrt_half_h, first_w1, first_w2, refine_counter - 1) \\\n",
    "            + actual_levy_area(sqrt_half_h, second_w1, second_w2, refine_counter - 1)"
   ]
  },
  {
   "cell_type": "markdown",
   "metadata": {},
   "source": [
    "## Estimating the 2-Wasserstein distance"
   ]
  },
  {
   "cell_type": "code",
   "execution_count": 3,
   "metadata": {},
   "outputs": [],
   "source": [
    "# Estimates the 2-Wasserstein distance between two sets of N samples\n",
    "def wasserstein2(sample1, sample2):\n",
    "    sample1.sort()\n",
    "    sample2.sort()\n",
    "    \n",
    "    n = len(sample1)\n",
    "    error = 0\n",
    "    \n",
    "    for i in range(n):\n",
    "        error = error + (sample1[i] - sample2[i]) ** 2.0\n",
    "        \n",
    "    return error / n"
   ]
  },
  {
   "cell_type": "markdown",
   "metadata": {},
   "source": [
    "## Running a numerical experiment"
   ]
  },
  {
   "cell_type": "code",
   "execution_count": 5,
   "metadata": {},
   "outputs": [
    {
     "name": "stdout",
     "output_type": "stream",
     "text": [
      "Estimated 2-Wasserstein error is 0.002602999521509086\n"
     ]
    }
   ],
   "source": [
    "# Size of the interval h = t - s\n",
    "h = 1.0\n",
    "sqrt_h = math.sqrt(h)\n",
    "\n",
    "# Fix the increments of the Brownian motion over the interval [s,t]\n",
    "increment1 = 1.0 * sqrt_h\n",
    "increment2 = -0.5 * sqrt_h\n",
    "\n",
    "# Number of samples\n",
    "n = 500000\n",
    "\n",
    "weak_levy_areas = []\n",
    "actual_levy_areas = []\n",
    "\n",
    "# Generate independent samples from each distribution conditional on W_{s,t}\n",
    "for i in range(n):\n",
    "    weak_levy_areas.append(weak_levy_area(h, sqrt_h, increment1, increment2))\n",
    "    actual_levy_areas.append(actual_levy_area(sqrt_h, increment1, increment2, 7))\n",
    "\n",
    "# Estimate the 2-Wasserstein error from the samples\n",
    "print('Estimated 2-Wasserstein error is', \n",
    "      math.sqrt(wasserstein2(weak_levy_areas, actual_levy_areas)))"
   ]
  },
  {
   "cell_type": "markdown",
   "metadata": {},
   "source": [
    "## Conclusion"
   ]
  },
  {
   "cell_type": "markdown",
   "metadata": {},
   "source": [
    "Empircal evidence suggests that the 2-Wasserstein error for the proposed approximation of Lévy area is small:\n",
    "\n",
    "\\begin{align}\n",
    "W_{2}(\\mu_{A}, \\tilde{\\mu}_{A}) \\leq 0.01h.\n",
    "\\end{align}"
   ]
  },
  {
   "cell_type": "markdown",
   "metadata": {},
   "source": [
    "## References"
   ]
  },
  {
   "cell_type": "markdown",
   "metadata": {},
   "source": [
    "[1] G. Flint and T. Lyons, Pathwise approximation of sdes by coupling piecewise abelian rough\n",
    "paths, https://arxiv.org/abs/1505.01298, 2015."
   ]
  },
  {
   "cell_type": "markdown",
   "metadata": {},
   "source": [
    "[2] J. Foster, T. Lyons and H. Oberhauser, An optimal polynomial approximation of Brownian motion, https://arxiv.org/abs/1904.06998, 2019."
   ]
  },
  {
   "cell_type": "markdown",
   "metadata": {},
   "source": [
    "[3] T. Klein, J. Fort, P. Berthet, Convergence of an estimator of the Wasserstein\n",
    "distance between two continuous probability distributions, hal-01526879, 2017."
   ]
  }
 ],
 "metadata": {
  "kernelspec": {
   "display_name": "Python 3",
   "language": "python",
   "name": "python3"
  },
  "language_info": {
   "codemirror_mode": {
    "name": "ipython",
    "version": 3
   },
   "file_extension": ".py",
   "mimetype": "text/x-python",
   "name": "python",
   "nbconvert_exporter": "python",
   "pygments_lexer": "ipython3",
   "version": "3.6.3"
  }
 },
 "nbformat": 4,
 "nbformat_minor": 2
}
